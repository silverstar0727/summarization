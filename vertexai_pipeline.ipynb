{
  "nbformat": 4,
  "nbformat_minor": 0,
  "metadata": {
    "colab": {
      "name": "vertexai-pipeline.ipynb",
      "provenance": [],
      "collapsed_sections": []
    },
    "kernelspec": {
      "name": "python3",
      "display_name": "Python 3"
    },
    "language_info": {
      "name": "python"
    }
  },
  "cells": [
    {
      "cell_type": "markdown",
      "metadata": {
        "id": "wK3e9KO4BF4W"
      },
      "source": [
        "experimental + custom components"
      ]
    },
    {
      "cell_type": "code",
      "metadata": {
        "id": "IsNRrwHJt7-s",
        "colab": {
          "base_uri": "https://localhost:8080/"
        },
        "outputId": "0eb599eb-415f-4acf-93e4-266c022ebe05"
      },
      "source": [
        "# 해당 셀을 실행한 후에 반드시 \"런타임 다시시작\"을 해주세요\n",
        "!pip3 install kfp google-cloud-aiplatform --upgrade -q --user"
      ],
      "execution_count": 1,
      "outputs": [
        {
          "output_type": "stream",
          "name": "stdout",
          "text": [
            "\u001b[K     |████████████████████████████████| 298 kB 9.1 MB/s \n",
            "\u001b[K     |████████████████████████████████| 1.7 MB 60.8 MB/s \n",
            "\u001b[K     |████████████████████████████████| 127 kB 53.6 MB/s \n",
            "\u001b[K     |████████████████████████████████| 636 kB 49.4 MB/s \n",
            "\u001b[K     |████████████████████████████████| 106 kB 51.7 MB/s \n",
            "\u001b[K     |████████████████████████████████| 1.6 MB 58.6 MB/s \n",
            "\u001b[K     |████████████████████████████████| 54 kB 1.6 MB/s \n",
            "\u001b[K     |████████████████████████████████| 52 kB 1.3 MB/s \n",
            "\u001b[K     |████████████████████████████████| 56 kB 1.9 MB/s \n",
            "\u001b[?25h  Installing build dependencies ... \u001b[?25l\u001b[?25hdone\n",
            "  Getting requirements to build wheel ... \u001b[?25l\u001b[?25hdone\n",
            "    Preparing wheel metadata ... \u001b[?25l\u001b[?25hdone\n",
            "\u001b[K     |████████████████████████████████| 87 kB 6.6 MB/s \n",
            "\u001b[K     |████████████████████████████████| 10.1 MB 40.8 MB/s \n",
            "\u001b[K     |████████████████████████████████| 93 kB 1.4 MB/s \n",
            "\u001b[K     |████████████████████████████████| 75 kB 3.7 MB/s \n",
            "\u001b[K     |████████████████████████████████| 53 kB 1.8 MB/s \n",
            "\u001b[K     |████████████████████████████████| 45 kB 3.6 MB/s \n",
            "\u001b[K     |████████████████████████████████| 109 kB 61.2 MB/s \n",
            "\u001b[K     |████████████████████████████████| 109 kB 52.0 MB/s \n",
            "\u001b[K     |████████████████████████████████| 95 kB 5.3 MB/s \n",
            "\u001b[K     |████████████████████████████████| 95 kB 3.9 MB/s \n",
            "\u001b[K     |████████████████████████████████| 95 kB 4.8 MB/s \n",
            "\u001b[K     |████████████████████████████████| 95 kB 4.4 MB/s \n",
            "\u001b[K     |████████████████████████████████| 94 kB 3.8 MB/s \n",
            "\u001b[K     |████████████████████████████████| 92 kB 497 kB/s \n",
            "\u001b[K     |████████████████████████████████| 92 kB 339 kB/s \n",
            "\u001b[K     |████████████████████████████████| 205 kB 47.7 MB/s \n",
            "\u001b[K     |████████████████████████████████| 1.1 MB 52.7 MB/s \n",
            "\u001b[?25h  Building wheel for kfp (setup.py) ... \u001b[?25l\u001b[?25hdone\n",
            "  Building wheel for docstring-parser (PEP 517) ... \u001b[?25l\u001b[?25hdone\n",
            "  Building wheel for fire (setup.py) ... \u001b[?25l\u001b[?25hdone\n",
            "  Building wheel for kfp-server-api (setup.py) ... \u001b[?25l\u001b[?25hdone\n",
            "  Building wheel for strip-hints (setup.py) ... \u001b[?25l\u001b[?25hdone\n",
            "\u001b[33m  WARNING: The script wsdump is installed in '/root/.local/bin' which is not on PATH.\n",
            "  Consider adding this directory to PATH or, if you prefer to suppress this warning, use --no-warn-script-location.\u001b[0m\n",
            "\u001b[33m  WARNING: The script strip-hints is installed in '/root/.local/bin' which is not on PATH.\n",
            "  Consider adding this directory to PATH or, if you prefer to suppress this warning, use --no-warn-script-location.\u001b[0m\n",
            "\u001b[33m  WARNING: The script jsonschema is installed in '/root/.local/bin' which is not on PATH.\n",
            "  Consider adding this directory to PATH or, if you prefer to suppress this warning, use --no-warn-script-location.\u001b[0m\n",
            "\u001b[33m  WARNING: The scripts dsl-compile, dsl-compile-v2 and kfp are installed in '/root/.local/bin' which is not on PATH.\n",
            "  Consider adding this directory to PATH or, if you prefer to suppress this warning, use --no-warn-script-location.\u001b[0m\n",
            "\u001b[33m  WARNING: The script tb-gcp-uploader is installed in '/root/.local/bin' which is not on PATH.\n",
            "  Consider adding this directory to PATH or, if you prefer to suppress this warning, use --no-warn-script-location.\u001b[0m\n",
            "\u001b[31mERROR: pip's dependency resolver does not currently take into account all the packages that are installed. This behaviour is the source of the following dependency conflicts.\n",
            "pandas-gbq 0.13.3 requires google-cloud-bigquery[bqstorage,pandas]<2.0.0dev,>=1.11.1, but you have google-cloud-bigquery 2.31.0 which is incompatible.\n",
            "nbclient 0.5.9 requires jupyter-client>=6.1.5, but you have jupyter-client 5.3.5 which is incompatible.\n",
            "gym 0.17.3 requires cloudpickle<1.7.0,>=1.2.0, but you have cloudpickle 2.0.0 which is incompatible.\n",
            "google-cloud-translate 1.5.0 requires google-cloud-core<2.0dev,>=1.0.0, but you have google-cloud-core 2.2.1 which is incompatible.\n",
            "google-cloud-firestore 1.7.0 requires google-cloud-core<2.0dev,>=1.0.3, but you have google-cloud-core 2.2.1 which is incompatible.\n",
            "google-cloud-datastore 1.8.0 requires google-cloud-core<2.0dev,>=1.0.0, but you have google-cloud-core 2.2.1 which is incompatible.\u001b[0m\n"
          ]
        }
      ]
    },
    {
      "cell_type": "code",
      "metadata": {
        "id": "u4tXVkJumpXc"
      },
      "source": [
        "import kfp\n",
        "from kfp import dsl\n",
        "from kfp.v2 import compiler\n",
        "from kfp.v2.dsl import (Artifact, Dataset, Input, InputPath, Model, Output,\n",
        "                        OutputPath, component, ClassificationMetrics, Metrics)\n",
        "from kfp.v2.google import experimental\n",
        "\n",
        "from google.cloud import aiplatform as vertex_ai\n",
        "\n",
        "import tensorflow as tf\n",
        "\n",
        "import time\n",
        "from typing import Optional"
      ],
      "execution_count": 1,
      "outputs": []
    },
    {
      "cell_type": "markdown",
      "metadata": {
        "id": "OWBrFnZ_dFy-"
      },
      "source": [
        "# 환경변수 설정\n",
        "아래 항목들을 본인 환경에 맞게 수정해주세요.\n",
        "\n",
        "* PROJECT_ID = <프로젝트 ID>\n",
        "* REGION = <리전>\n",
        "* BUCKET_NAME = <bucket 이름>\n",
        "* USER = <user 이름>"
      ]
    },
    {
      "cell_type": "code",
      "metadata": {
        "id": "yUqAIs_RTHUQ"
      },
      "source": [
        "# GCP 설정\n",
        "PROJECT_ID = 'summarization-336407'\n",
        "REGION = \"us-central1\"\n",
        "USER = \"JeongMin-Do\"\n",
        "BUCKET = \"summarization-123423\"\n",
        "PIPELINE_NAME = \"summarization\"\n",
        "\n",
        "# wandb 설정\n",
        "# WANDB_API_KEY = \"\""
      ],
      "execution_count": 2,
      "outputs": []
    },
    {
      "cell_type": "code",
      "metadata": {
        "id": "PSjocvRKfprb"
      },
      "source": [
        "ts = int(time.time())\n",
        "BUCKET_NAME = f\"gs://{BUCKET}\"\n",
        "PIPELINE_ROOT = f\"{BUCKET_NAME}/pipeline_root/{USER}\"\n",
        "WORKING_DIR = f\"{PIPELINE_ROOT}/{ts}\"\n",
        "MODEL_DISPLAY_NAME = f\"train_deploy{ts}\"\n",
        "MODEL_DIR = f\"pipeline_root/{USER}/{ts}\""
      ],
      "execution_count": 3,
      "outputs": []
    },
    {
      "cell_type": "markdown",
      "metadata": {
        "id": "LuGyYnmcnz4X"
      },
      "source": [
        "## GCP 연결"
      ]
    },
    {
      "cell_type": "code",
      "metadata": {
        "id": "WimjuxN-BU1K"
      },
      "source": [
        "# gcp 연결\n",
        "# using credential file\n",
        "from google.oauth2 import service_account\n",
        "\n",
        "# credentials = service_account.Credentials.from_service_account_file(\n",
        "#     '/content/vertexai-pipeline-328904-b011e928c725.json')\n",
        "# vertex_ai.init(project=PROJECT_ID,\n",
        "#                credentials=credentials\n",
        "#                )\n",
        "\n",
        "\n",
        "from google.colab import auth as google_auth\n",
        "\n",
        "google_auth.authenticate_user()\n",
        "vertex_ai.init(project=PROJECT_ID)"
      ],
      "execution_count": 5,
      "outputs": []
    },
    {
      "cell_type": "markdown",
      "metadata": {
        "id": "O6lRpRZ3eGSC"
      },
      "source": [
        "# Pipeline 정의"
      ]
    },
    {
      "cell_type": "markdown",
      "metadata": {
        "id": "ZPsQjPmge2Z9"
      },
      "source": [
        "#### 해당 부분을 요구에 맞게 수정해주세요"
      ]
    },
    {
      "cell_type": "code",
      "metadata": {
        "id": "ZOOaAI1cWKpB"
      },
      "source": [
        "@component\n",
        "def train(training_state: str):\n",
        "    print(f\"training task: {training_state}\")\n",
        "\n",
        "@component(base_image=\"silverstar456/vertexai:aiplatform\")\n",
        "def model_upload(\n",
        "    project: str,\n",
        "    location: str,\n",
        "    display_name: str,\n",
        "    serving_container_image_uri: str,\n",
        "    artifact_uri: Optional[str]=None,\n",
        "):\n",
        "    from google.cloud import aiplatform as vertex_ai\n",
        "\n",
        "    vertex_ai.init(project=project, location=location)\n",
        "\n",
        "    model = vertex_ai.Model.upload(\n",
        "        display_name=display_name,\n",
        "        artifact_uri=artifact_uri,\n",
        "        serving_container_image_uri=serving_container_image_uri,\n",
        "    )\n",
        "\n",
        "@component(base_image=\"silverstar456/vertexai:aiplatform\")\n",
        "def model_deploy(\n",
        "    project: str,\n",
        "    location: str,\n",
        "    display_name: str,\n",
        "):\n",
        "    from google.cloud import aiplatform as vertex_ai\n",
        "\n",
        "    vertex_ai.init(project=project, location=location)\n",
        "    model = vertex_ai.Model.list()[0]\n",
        "\n",
        "    endpoint = vertex_ai.Endpoint.create(display_name=display_name)\n",
        "    model.deploy(endpoint=endpoint, \n",
        "                 machine_type=\"n1-standard-2\", \n",
        "                 min_replica_count=1, \n",
        "                 max_replica_count=1)"
      ],
      "execution_count": 6,
      "outputs": []
    },
    {
      "cell_type": "code",
      "metadata": {
        "id": "da9RO2o785fz"
      },
      "source": [
        "@kfp.dsl.pipeline(name=\"summarization-\" + str(ts), pipeline_root=PIPELINE_ROOT)\n",
        "def pipeline():\n",
        "    # model train\n",
        "    train_task = train(\"model training\")\n",
        "    experimental.run_as_aiplatform_custom_job(\n",
        "        train_task,\n",
        "        worker_pool_specs=[\n",
        "            {\n",
        "                \"containerSpec\": {\n",
        "                    \"env\": [{\"name\": \"WORKING_DIR\", \"value\": MODEL_DIR},\n",
        "                            {\"name\": \"BUCKET\", \"value\": BUCKET}],\n",
        "                    \"imageUri\": \"silverstar456/vertexai:summarization\", # 사전에 빌드한 도커 이미지 URI\n",
        "                },\n",
        "                \"replicaCount\": \"1\",\n",
        "                \"machineSpec\": {\n",
        "                    \"machineType\": \"n1-standard-8\", # 실행시 사용할 머신 타입 GCP 문서 참조\n",
        "                    # \"accelerator_type\": vertex_ai.gapic.AcceleratorType.NVIDIA_TESLA_K80, # GPU 타입\n",
        "                    # \"accelerator_count\": 1, # GPU 개수\n",
        "                },\n",
        "            }\n",
        "        ],\n",
        "    )\n",
        "\n",
        "    # model upload\n",
        "    uploader = model_upload(\n",
        "        project=PROJECT_ID,\n",
        "        location=REGION,\n",
        "        display_name=MODEL_DISPLAY_NAME,\n",
        "        artifact_uri=WORKING_DIR,\n",
        "        serving_container_image_uri=\"gcr.io/cloud-aiplatform/prediction/tf2-cpu.2-2:latest\"\n",
        "        )\n",
        "    uploader.after(train_task)\n",
        "    \n",
        "    # model deploy\n",
        "    deployer = model_deploy(\n",
        "        project=PROJECT_ID,\n",
        "        location=REGION,\n",
        "        display_name=MODEL_DISPLAY_NAME,\n",
        "    )\n",
        "    deployer.after(uploader)"
      ],
      "execution_count": 12,
      "outputs": []
    },
    {
      "cell_type": "code",
      "metadata": {
        "id": "259M41bwmFSE",
        "colab": {
          "base_uri": "https://localhost:8080/"
        },
        "outputId": "d48fc25e-d4ae-4e3b-b011-f1d10c2e4e2e"
      },
      "source": [
        "compiler.Compiler().compile(\n",
        "    pipeline_func = pipeline, package_path = \"summarization.json\"\n",
        ")\n",
        "\n",
        "pipeline = vertex_ai.PipelineJob(\n",
        "    display_name=\"summarization\",\n",
        "    template_path=\"summarization.json\",\n",
        "    parameter_values={},\n",
        ")\n",
        "\n",
        "pipeline.run(sync=False)"
      ],
      "execution_count": 13,
      "outputs": [
        {
          "output_type": "stream",
          "name": "stdout",
          "text": [
            "INFO:google.cloud.aiplatform.pipeline_jobs:Creating PipelineJob\n"
          ]
        },
        {
          "output_type": "stream",
          "name": "stderr",
          "text": [
            "/root/.local/lib/python3.7/site-packages/kfp/v2/compiler/compiler.py:1266: FutureWarning: APIs imported from the v1 namespace (e.g. kfp.dsl, kfp.components, etc) will not be supported by the v2 compiler since v2.0.0\n",
            "  category=FutureWarning,\n",
            "/root/.local/lib/python3.7/site-packages/kfp/v2/google/experimental/custom_job.py:78: FutureWarning: This function will be deprecated in v2.0.0\n",
            "  'This function will be deprecated in v2.0.0', category=FutureWarning,\n"
          ]
        }
      ]
    },
    {
      "cell_type": "code",
      "metadata": {
        "id": "kh_vAFv5FhAK"
      },
      "source": [
        ""
      ],
      "execution_count": null,
      "outputs": []
    }
  ]
}